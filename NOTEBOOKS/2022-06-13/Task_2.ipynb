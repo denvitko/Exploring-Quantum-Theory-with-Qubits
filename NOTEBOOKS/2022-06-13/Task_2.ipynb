{
 "cells": [
  {
   "cell_type": "markdown",
   "id": "dabcdc3f",
   "metadata": {},
   "source": [
    "# TASK 2"
   ]
  },
  {
   "cell_type": "code",
   "execution_count": 1,
   "id": "cfed03de",
   "metadata": {},
   "outputs": [
    {
     "data": {
      "image/png": "[encoded data removed]",
      "text/plain": [
       "<Figure size 688.452x204.68 with 1 Axes>"
      ]
     },
     "execution_count": 1,
     "metadata": {},
     "output_type": "execute_result"
    }
   ],
   "source": [
    "%run Matrices.ipynb\n",
    "%matplotlib inline\n",
    "\n",
    "from qiskit import QuantumRegister, ClassicalRegister, QuantumCircuit, execute, Aer\n",
    "from qiskit.quantum_info import Statevector\n",
    "from qiskit.visualization import plot_histogram\n",
    "from numpy import pi, sqrt\n",
    "\n",
    "q =  QuantumRegister(2,\"q\") # quantum register with 2 qubits\n",
    "c = ClassicalRegister(2,\"c\") # classical register with 2 bits\n",
    "qc = QuantumCircuit(q,c) # quantum circuit with quantum and classical registers\n",
    "    \n",
    "qc.h(q[1])\n",
    "qc.cx(q[1], q[0])\n",
    "qc.barrier(range(2))\n",
    "qc.x(q[1])\n",
    "qc.z(q[1])\n",
    "qc.barrier(range(2))\n",
    "qc.cx(q[1], q[0])\n",
    "qc.h(q[1])\n",
    "\n",
    "job = execute(qc,Aer.get_backend('statevector_simulator'),optimization_level=0,shots=1)\n",
    "current_quantum_state = np.round(np.array(job.result().get_statevector(qc)), decimals=10)\n",
    "\n",
    "# measurement\n",
    "qc.measure(q, c)\n",
    "#qc.measure(q[0], c[0])\n",
    "#qc.measure(q[1], c[1])\n",
    "\n",
    "job = execute(qc, Aer.get_backend('qasm_simulator'), shots=1024)\n",
    "counts = job.result().get_counts(qc)\n",
    "\n",
    "qc.draw(output='mpl',reverse_bits=False)"
   ]
  },
  {
   "cell_type": "code",
   "execution_count": 2,
   "id": "d1c84cdc",
   "metadata": {},
   "outputs": [
    {
     "data": {
      "text/latex": [
       "$\\displaystyle \\left[\\begin{matrix}0\\\\0\\\\0\\\\1.0\\end{matrix}\\right]$"
      ],
      "text/plain": [
       "[ 0 ]\n",
       "[   ]\n",
       "[ 0 ]\n",
       "[   ]\n",
       "[ 0 ]\n",
       "[   ]\n",
       "[1.0]"
      ]
     },
     "execution_count": 2,
     "metadata": {},
     "output_type": "execute_result"
    }
   ],
   "source": [
    "Matrix(current_quantum_state.real)"
   ]
  },
  {
   "cell_type": "code",
   "execution_count": 3,
   "id": "697909be",
   "metadata": {},
   "outputs": [
    {
     "data": {
      "text/latex": [
       "$$ |11\\rangle$$"
      ],
      "text/plain": [
       "<IPython.core.display.Latex object>"
      ]
     },
     "execution_count": 3,
     "metadata": {},
     "output_type": "execute_result"
    }
   ],
   "source": [
    "#print(Matrix(current_quantum_state.real))\n",
    "Statevector(np.array(current_quantum_state)).draw(output='latex')"
   ]
  },
  {
   "cell_type": "code",
   "execution_count": 4,
   "id": "dc6554c1",
   "metadata": {},
   "outputs": [
    {
     "name": "stdout",
     "output_type": "stream",
     "text": [
      "results:  {'11': 1024}\n"
     ]
    },
    {
     "data": {
      "image/png": "[encoded data removed]",
      "text/plain": [
       "<Figure size 504x360 with 1 Axes>"
      ]
     },
     "execution_count": 4,
     "metadata": {},
     "output_type": "execute_result"
    }
   ],
   "source": [
    "print(\"results: \", counts)\n",
    "plot_histogram(job.result().get_counts(), title=\"Task 2 - probabilities\")"
   ]
  },
  {
   "cell_type": "markdown",
   "id": "cd881b56",
   "metadata": {},
   "source": [
    "$\\color{blue}{\\text{1. First part is making a pair of qubits entangled.}}$ <br>\n",
    "$\\color{blue}{\\text{2. In the second part, sender applies quantum gates on qubits to create the desired message.}}$ <br>\n",
    "$\\color{blue}{\\text{3. Third part is a Bell measurement performed by reciever. The measurement allows us to read the sent message.}}$"
   ]
  },
  {
   "cell_type": "markdown",
   "id": "5ab2ecb2",
   "metadata": {},
   "source": [
    "## Checking results by computation"
   ]
  },
  {
   "cell_type": "code",
   "execution_count": 5,
   "id": "ad048321",
   "metadata": {},
   "outputs": [
    {
     "name": "stdout",
     "output_type": "stream",
     "text": [
      "The output statevector: Matrix([[0], [0], [0], [1]])\n"
     ]
    },
    {
     "data": {
      "text/latex": [
       "$\\displaystyle \\left[\\begin{matrix}0\\\\0\\\\0\\\\1\\end{matrix}\\right]$"
      ],
      "text/plain": [
       "[0]\n",
       "[ ]\n",
       "[0]\n",
       "[ ]\n",
       "[0]\n",
       "[ ]\n",
       "[1]"
      ]
     },
     "execution_count": 5,
     "metadata": {},
     "output_type": "execute_result"
    }
   ],
   "source": [
    "SV = TensorProduct(H,I)@CNOT@TensorProduct(Z,I)@TensorProduct(X,I)@CNOT@TensorProduct(H,I)@TensorProduct(zero,zero)\n",
    "print(\"The output statevector:\", SV)\n",
    "SV"
   ]
  },
  {
   "cell_type": "code",
   "execution_count": 6,
   "id": "8e0e9741",
   "metadata": {},
   "outputs": [
    {
     "data": {
      "text/latex": [
       "$$ |11\\rangle$$"
      ],
      "text/plain": [
       "<IPython.core.display.Latex object>"
      ]
     },
     "execution_count": 6,
     "metadata": {},
     "output_type": "execute_result"
    }
   ],
   "source": [
    "Statevector(np.array(SV)).draw(output='latex')"
   ]
  },
  {
   "cell_type": "markdown",
   "id": "fb834c9d",
   "metadata": {},
   "source": [
    "$\\color{blue}{\\text{I would say that Alice sent message 11 to Bob.}}$"
   ]
  },
  {
   "cell_type": "markdown",
   "id": "f8b363cc",
   "metadata": {},
   "source": [
    "## Observing other states"
   ]
  },
  {
   "cell_type": "markdown",
   "id": "af8f7b1e",
   "metadata": {},
   "source": [
    "__Observing state 00__"
   ]
  },
  {
   "cell_type": "code",
   "execution_count": 7,
   "id": "80948fc0",
   "metadata": {},
   "outputs": [
    {
     "name": "stdout",
     "output_type": "stream",
     "text": [
      "results:  {'00': 1024}\n"
     ]
    },
    {
     "data": {
      "image/png": "[encoded data removed]",
      "text/plain": [
       "<Figure size 447.652x204.68 with 1 Axes>"
      ]
     },
     "execution_count": 7,
     "metadata": {},
     "output_type": "execute_result"
    }
   ],
   "source": [
    "from qiskit import QuantumRegister, ClassicalRegister, QuantumCircuit, execute, Aer\n",
    "from numpy import pi\n",
    "\n",
    "q =  QuantumRegister(2,\"q\") # quantum register with 2 qubits\n",
    "c = ClassicalRegister(2,\"c\") # classical register with 2 bits\n",
    "qc = QuantumCircuit(q,c) # quantum circuit with quantum and classical registers\n",
    "    \n",
    "qc.h(q[1])\n",
    "qc.cx(q[1], q[0])\n",
    "#qc.x(q[1])\n",
    "#qc.z(q[1])\n",
    "qc.cx(q[1], q[0])\n",
    "qc.h(q[1])\n",
    "\n",
    "job = execute(qc,Aer.get_backend('statevector_simulator'),optimization_level=0,shots=1)\n",
    "qstate00 = np.round(np.array(job.result().get_statevector(qc)), decimals=10)\n",
    "\n",
    "qc.measure(q, c)\n",
    "\n",
    "job = execute(qc, Aer.get_backend('qasm_simulator'), shots=1024)\n",
    "counts = job.result().get_counts(qc)\n",
    "print(\"results: \", counts)\n",
    "\n",
    "qc.draw(output='mpl',reverse_bits=False)"
   ]
  },
  {
   "cell_type": "code",
   "execution_count": 8,
   "id": "5c89c1a8",
   "metadata": {},
   "outputs": [
    {
     "name": "stdout",
     "output_type": "stream",
     "text": [
      "Observing state:  [1. 0. 0. 0.]\n"
     ]
    },
    {
     "data": {
      "text/latex": [
       "$$ |00\\rangle$$"
      ],
      "text/plain": [
       "<IPython.core.display.Latex object>"
      ]
     },
     "execution_count": 8,
     "metadata": {},
     "output_type": "execute_result"
    }
   ],
   "source": [
    "print(\"Observing state: \", qstate00.real)\n",
    "Statevector(np.array(qstate00)).draw(output='latex')"
   ]
  },
  {
   "cell_type": "markdown",
   "id": "d2b0367a",
   "metadata": {},
   "source": [
    "__Observing state 01__"
   ]
  },
  {
   "cell_type": "code",
   "execution_count": 9,
   "id": "0733f87b",
   "metadata": {},
   "outputs": [
    {
     "name": "stdout",
     "output_type": "stream",
     "text": [
      "results:  {'01': 1024}\n"
     ]
    },
    {
     "data": {
      "image/png": "[encoded data removed]",
      "text/plain": [
       "<Figure size 507.852x204.68 with 1 Axes>"
      ]
     },
     "execution_count": 9,
     "metadata": {},
     "output_type": "execute_result"
    }
   ],
   "source": [
    "from qiskit import QuantumRegister, ClassicalRegister, QuantumCircuit, execute, Aer\n",
    "from numpy import pi\n",
    "\n",
    "q =  QuantumRegister(2,\"q\") # quantum register with 2 qubits\n",
    "c = ClassicalRegister(2,\"c\") # classical register with 2 bits\n",
    "qc = QuantumCircuit(q,c) # quantum circuit with quantum and classical registers\n",
    "    \n",
    "qc.h(q[1])\n",
    "qc.cx(q[1], q[0])\n",
    "qc.x(q[1])\n",
    "#qc.z(q[1])\n",
    "qc.cx(q[1], q[0])\n",
    "qc.h(q[1])\n",
    "\n",
    "\n",
    "job = execute(qc,Aer.get_backend('statevector_simulator'),optimization_level=0,shots=1)\n",
    "qstate01 = np.round(np.array(job.result().get_statevector(qc)), decimals=10)\n",
    "\n",
    "qc.measure(q, c)\n",
    "\n",
    "job = execute(qc, Aer.get_backend('qasm_simulator'), shots=1024)\n",
    "counts = job.result().get_counts(qc)\n",
    "print(\"results: \", counts)\n",
    "\n",
    "qc.draw(output='mpl',reverse_bits=False)"
   ]
  },
  {
   "cell_type": "code",
   "execution_count": 10,
   "id": "fd9d855a",
   "metadata": {},
   "outputs": [
    {
     "name": "stdout",
     "output_type": "stream",
     "text": [
      "Observing state:  [ 0.  1.  0. -0.]\n"
     ]
    },
    {
     "data": {
      "text/latex": [
       "$$ |01\\rangle$$"
      ],
      "text/plain": [
       "<IPython.core.display.Latex object>"
      ]
     },
     "execution_count": 10,
     "metadata": {},
     "output_type": "execute_result"
    }
   ],
   "source": [
    "print(\"Observing state: \", qstate01.real)\n",
    "Statevector(np.array(qstate01)).draw(output='latex')"
   ]
  },
  {
   "cell_type": "markdown",
   "id": "425642dd",
   "metadata": {},
   "source": [
    "__Observing state 10__"
   ]
  },
  {
   "cell_type": "code",
   "execution_count": 11,
   "id": "f904031c",
   "metadata": {},
   "outputs": [
    {
     "name": "stdout",
     "output_type": "stream",
     "text": [
      "results:  {'10': 1024}\n"
     ]
    },
    {
     "data": {
      "image/png": "[encoded data removed]",
      "text/plain": [
       "<Figure size 507.852x204.68 with 1 Axes>"
      ]
     },
     "execution_count": 11,
     "metadata": {},
     "output_type": "execute_result"
    }
   ],
   "source": [
    "from qiskit import QuantumRegister, ClassicalRegister, QuantumCircuit, execute, Aer\n",
    "from numpy import pi\n",
    "\n",
    "q =  QuantumRegister(2,\"q\") # quantum register with 2 qubits\n",
    "c = ClassicalRegister(2,\"c\") # classical register with 2 bits\n",
    "qc = QuantumCircuit(q,c) # quantum circuit with quantum and classical registers\n",
    "    \n",
    "qc.h(q[1])\n",
    "qc.cx(q[1], q[0])\n",
    "#qc.x(q[1])\n",
    "qc.z(q[1])\n",
    "qc.cx(q[1], q[0])\n",
    "qc.h(q[1])\n",
    "\n",
    "job = execute(qc,Aer.get_backend('statevector_simulator'),optimization_level=0,shots=1)\n",
    "qstate10 = np.round(np.array(job.result().get_statevector(qc)), decimals=10)\n",
    "\n",
    "qc.measure(q, c)\n",
    "\n",
    "job = execute(qc, Aer.get_backend('qasm_simulator'), shots=1024)\n",
    "counts = job.result().get_counts(qc)\n",
    "print(\"results: \", counts)\n",
    "\n",
    "qc.draw(output='mpl',reverse_bits=False)"
   ]
  },
  {
   "cell_type": "code",
   "execution_count": 12,
   "id": "e81f1164",
   "metadata": {},
   "outputs": [
    {
     "name": "stdout",
     "output_type": "stream",
     "text": [
      "Observing state:  [0. 0. 1. 0.]\n"
     ]
    },
    {
     "data": {
      "text/latex": [
       "$$ |10\\rangle$$"
      ],
      "text/plain": [
       "<IPython.core.display.Latex object>"
      ]
     },
     "execution_count": 12,
     "metadata": {},
     "output_type": "execute_result"
    }
   ],
   "source": [
    "print(\"Observing state: \", qstate10.real)\n",
    "Statevector(np.array(qstate10)).draw(output='latex')"
   ]
  },
  {
   "cell_type": "markdown",
   "id": "b8ea1d37",
   "metadata": {},
   "source": [
    "## Outcomes from IBM Quantum"
   ]
  },
  {
   "cell_type": "markdown",
   "id": "5bb1dab3",
   "metadata": {},
   "source": [
    "<img src=\"Task_2.png\"/>"
   ]
  }
 ],
 "metadata": {
  "kernelspec": {
   "display_name": "Python 3 (ipykernel)",
   "language": "python",
   "name": "python3"
  },
  "language_info": {
   "codemirror_mode": {
    "name": "ipython",
    "version": 3
   },
   "file_extension": ".py",
   "mimetype": "text/x-python",
   "name": "python",
   "nbconvert_exporter": "python",
   "pygments_lexer": "ipython3",
   "version": "3.9.12"
  }
 },
 "nbformat": 4,
 "nbformat_minor": 5
}
