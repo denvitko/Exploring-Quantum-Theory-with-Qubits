{
 "cells": [
  {
   "cell_type": "markdown",
   "id": "848765ca",
   "metadata": {},
   "source": [
    "# TASK 1"
   ]
  },
  {
   "cell_type": "code",
   "execution_count": 1,
   "id": "c1bf13c6",
   "metadata": {},
   "outputs": [
    {
     "data": {
      "image/png": "[encoded data removed]",
      "text/plain": [
       "<Figure size 327.397x264.88 with 1 Axes>"
      ]
     },
     "execution_count": 1,
     "metadata": {},
     "output_type": "execute_result"
    }
   ],
   "source": [
    "%run Matrices.ipynb\n",
    "%matplotlib inline\n",
    "\n",
    "from qiskit import QuantumRegister, ClassicalRegister, QuantumCircuit, execute, Aer\n",
    "from qiskit.quantum_info.operators import Operator\n",
    "from qiskit.quantum_info import Statevector\n",
    "from qiskit.visualization import plot_histogram\n",
    "from numpy import pi, sqrt\n",
    "from sympy import *\n",
    "\n",
    "q =  QuantumRegister(3,\"q\") # quantum register with 3 qubits\n",
    "c = ClassicalRegister(3,\"c\") # classical register with 3 bits\n",
    "qc = QuantumCircuit(q,c) # quantum circuit with quantum and classical registers\n",
    "    \n",
    "U = Operator([\n",
    "    [sqrt(2/3), -1/sqrt(3)],\n",
    "    [1/sqrt(3), sqrt(2/3)]\n",
    "])\n",
    "\n",
    "qc.unitary(U, [2], label='U')     # the same as qc.ry(1.23, q[2])\n",
    "qc.ch(q[2], q[1])\n",
    "qc.ccx(q[2], q[1], q[0])\n",
    "\n",
    "job = execute(qc,Aer.get_backend('statevector_simulator'),optimization_level=0,shots=1)\n",
    "current_quantum_state = np.round(np.array(job.result().get_statevector(qc)), decimals=10)\n",
    "\n",
    "# measurement of the leftmost qubit q[2]\n",
    "qc.measure(q[2], c[2])\n",
    "\n",
    "job = execute(qc, Aer.get_backend('qasm_simulator'), shots=1024)\n",
    "counts = job.result().get_counts(qc)\n",
    "\n",
    "# drawing circuit\n",
    "qc.draw(output='mpl',reverse_bits=False)"
   ]
  },
  {
   "cell_type": "markdown",
   "id": "45938d3e",
   "metadata": {},
   "source": [
    "## Resulting state"
   ]
  },
  {
   "cell_type": "code",
   "execution_count": 2,
   "id": "021f5bb4",
   "metadata": {},
   "outputs": [
    {
     "data": {
      "text/latex": [
       "$\\displaystyle \\left[\\begin{matrix}0.8164965809\\\\0\\\\0\\\\0\\\\0.4082482905\\\\0\\\\0\\\\0.4082482905\\end{matrix}\\right]$"
      ],
      "text/plain": [
       "[0.8164965809]\n",
       "[            ]\n",
       "[     0      ]\n",
       "[            ]\n",
       "[     0      ]\n",
       "[            ]\n",
       "[     0      ]\n",
       "[            ]\n",
       "[0.4082482905]\n",
       "[            ]\n",
       "[     0      ]\n",
       "[            ]\n",
       "[     0      ]\n",
       "[            ]\n",
       "[0.4082482905]"
      ]
     },
     "execution_count": 2,
     "metadata": {},
     "output_type": "execute_result"
    }
   ],
   "source": [
    "Matrix(current_quantum_state.real)"
   ]
  },
  {
   "cell_type": "code",
   "execution_count": 3,
   "id": "10b21533",
   "metadata": {},
   "outputs": [
    {
     "data": {
      "text/latex": [
       "$$\\frac{\\sqrt{6}}{3} |000\\rangle+\\frac{\\sqrt{6}}{6} |100\\rangle+\\frac{\\sqrt{6}}{6} |111\\rangle$$"
      ],
      "text/plain": [
       "<IPython.core.display.Latex object>"
      ]
     },
     "execution_count": 3,
     "metadata": {},
     "output_type": "execute_result"
    }
   ],
   "source": [
    "Statevector(np.array(current_quantum_state)).draw(output='latex')"
   ]
  },
  {
   "cell_type": "markdown",
   "id": "ebceee20",
   "metadata": {},
   "source": [
    "### Checking entanglement (proof) #1"
   ]
  },
  {
   "cell_type": "markdown",
   "id": "08e0a743",
   "metadata": {},
   "source": [
    "<table width=\"100%\"><tr><td style=\"color:#bbbbbb;background-color:#ffffff;font-size:11px;font-style:italic;text-align:right;\">This cell contains some macros. If there is a problem with displaying mathematical formulas, please run this cell to load these macros. </td></tr></table>\n",
    "$\\newcommand{\\ket}[1]{\\left|{#1}\\right\\rangle}$\n",
    "$\\newcommand{\\bra}[1]{\\left\\langle{#1}\\right|}$\n",
    "$\\newcommand{\\braket}[2]{\\left\\langle{#1}\\middle|{#2}\\right\\rangle}$"
   ]
  },
  {
   "cell_type": "markdown",
   "id": "0b4520d3",
   "metadata": {},
   "source": [
    "We have to check whether the state $\\frac{\\sqrt{6}}{3}\\ket{000} + \\frac{\\sqrt{6}}{6}\\ket{100} + \\frac{\\sqrt{6}}{6}\\ket{111}$ is or isn’t entangled.\n",
    "\n",
    "Every separable (not entangled) state can be written as a tensor product of other states, like this\n",
    "\n",
    "$$\n",
    "(\\alpha_1\\ket{u_1} + \\beta_1\\ket{v_1} + \\gamma_1\\ket{w_1}) \\otimes (\\alpha_2\\ket{u_2} + \\beta_2\\ket{v_2} + \\gamma_2\\ket{w_2})\n",
    "$$\n",
    "\n",
    "Using distribution, we will get\n",
    "\n",
    "$$\n",
    "\\alpha_1\\beta_1\\gamma_1\\ket{u_1} \\otimes \\ket{v_1} \\otimes \\ket{w_1} + \\alpha_1\\beta_1\\gamma_2\\ket{u_1} \\otimes \\ket{v_1} \\otimes \\ket{w_2} + \\dots + \\alpha_2\\beta_2\\gamma_2\\ket{u_2} \\otimes \\ket{v_2} \\otimes \\ket{w_2}\n",
    "$$\n",
    "\n",
    "Our given state will in these terms look like a following\n",
    "\n",
    "$$\n",
    "\\ket{u_1} \\otimes \\ket{v_1} \\otimes \\ket{w_1} + \\ket{u_2} \\otimes \\ket{v_1} \\otimes \\ket{w_1} + \\ket{u_2} \\otimes \\ket{v_2} \\otimes \\ket{w_2}\n",
    "$$\n",
    "\n",
    "$$\n",
    "\\alpha_1\\beta_1\\gamma_1\\ket{u_1} \\otimes \\ket{v_1} \\otimes \\ket{w_1} + \\alpha_2\\beta_1\\gamma_1\\ket{u_2} \\otimes \\ket{v_1} \\otimes \\ket{w_1} + \\alpha_2\\beta_2\\gamma_2\\ket{u_2} \\otimes \\ket{v_2} \\otimes \\ket{w_2}\n",
    "$$\n",
    "\n",
    "For the coefficients, we will write down the three following equivalencies\n",
    "\n",
    "$$\n",
    "\\begin{align}\n",
    "\\alpha_1\\beta_1\\gamma_1 = \\frac{\\sqrt{6}}{3} \\\\\n",
    "\\alpha_2\\beta_1\\gamma_1 = \\frac{\\sqrt{6}}{6} \\\\\n",
    "\\alpha_2\\beta_2\\gamma_2 = \\frac{\\sqrt{6}}{6} \\\\\n",
    "\\end{align}\n",
    "$$\n",
    "\n",
    "And the rest must be equal to 0, so we can write, for example, that \n",
    "\n",
    "$$\n",
    "\\begin{align}\\alpha_1\\beta_1\\gamma_2 = 0\n",
    "\\end{align}\n",
    "$$\n",
    "\n",
    "By looking at the eq. (4) we can conclude that $\\alpha_1$ and/or $\\beta_1$ and/or $\\gamma_2$ must be equal to 0. But by stating this, for $\\alpha_1 = 0$, eq. (1) won’t hold; for $\\beta_1 = 0$, eq. (1) and (2) won’t hold and for $\\gamma_2 = 0$, eq. (3) won’t hold.\n",
    "\n",
    "We came to a contradiction and thus we can say, that **the given state is entangled**."
   ]
  },
  {
   "cell_type": "markdown",
   "id": "7a8fbc00",
   "metadata": {},
   "source": [
    "### Checking entanglement (proof) #2"
   ]
  },
  {
   "cell_type": "markdown",
   "id": "042808a6",
   "metadata": {},
   "source": [
    "1. we create a density matrix $\\rho$ of the whole system\n",
    "2. then we make a subsystems $\\rho_A$, $\\rho_B$ and $\\rho_C$ by tracing out other qubits\n",
    "3. finally we take a trace $Tr$ of the sub-system raised to the power 2\n",
    "\n",
    "If the trace is <u>exactly 1</u>, we know that the given system <u>wasn't entangled</u> <br>\n",
    "If the trace is <u>less than 1</u> we know that the given system <u>was entangled</u>"
   ]
  },
  {
   "cell_type": "code",
   "execution_count": 4,
   "id": "52ffcf19",
   "metadata": {},
   "outputs": [
    {
     "data": {
      "text/latex": [
       "$$\n",
       "\\rho = \n",
       "\\begin{bmatrix}\n",
       "\\tfrac{2}{3} & 0 & 0 & 0 & \\tfrac{1}{3} & 0 & 0 & \\tfrac{1}{3}  \\\\\n",
       " 0 & 0 & 0 & 0 & 0 & 0 & 0 & 0  \\\\\n",
       " 0 & 0 & 0 & 0 & 0 & 0 & 0 & 0  \\\\\n",
       " 0 & 0 & 0 & 0 & 0 & 0 & 0 & 0  \\\\\n",
       " \\tfrac{1}{3} & 0 & 0 & 0 & \\tfrac{1}{6} & 0 & 0 & \\tfrac{1}{6}  \\\\\n",
       " 0 & 0 & 0 & 0 & 0 & 0 & 0 & 0  \\\\\n",
       " 0 & 0 & 0 & 0 & 0 & 0 & 0 & 0  \\\\\n",
       " \\tfrac{1}{3} & 0 & 0 & 0 & \\tfrac{1}{6} & 0 & 0 & \\tfrac{1}{6}  \\\\\n",
       " \\end{bmatrix}\n",
       "$$"
      ],
      "text/plain": [
       "<IPython.core.display.Latex object>"
      ]
     },
     "execution_count": 4,
     "metadata": {},
     "output_type": "execute_result"
    }
   ],
   "source": [
    "# step 1\n",
    "\n",
    "from qiskit import quantum_info as qi\n",
    "\n",
    "qstate = Matrix(current_quantum_state)\n",
    "rho = qi.DensityMatrix(np.array(qstate@Dagger(qstate)))\n",
    "rho.draw('latex', prefix='\\\\rho = ')"
   ]
  },
  {
   "cell_type": "code",
   "execution_count": 5,
   "id": "66a56842",
   "metadata": {},
   "outputs": [
    {
     "data": {
      "text/latex": [
       "$$\n",
       "\\rho_C = \n",
       "\\begin{bmatrix}\n",
       "\\tfrac{2}{3} & \\tfrac{1}{3}  \\\\\n",
       " \\tfrac{1}{3} & \\tfrac{1}{3}  \\\\\n",
       " \\end{bmatrix}\n",
       "$$"
      ],
      "text/plain": [
       "<IPython.core.display.Latex object>"
      ]
     },
     "metadata": {},
     "output_type": "display_data"
    },
    {
     "data": {
      "text/latex": [
       "$$\n",
       "\\rho_B = \n",
       "\\begin{bmatrix}\n",
       "\\tfrac{5}{6} & 0  \\\\\n",
       " 0 & \\tfrac{1}{6}  \\\\\n",
       " \\end{bmatrix}\n",
       "$$"
      ],
      "text/plain": [
       "<IPython.core.display.Latex object>"
      ]
     },
     "metadata": {},
     "output_type": "display_data"
    },
    {
     "data": {
      "text/latex": [
       "$$\n",
       "\\rho_A = \n",
       "\\begin{bmatrix}\n",
       "\\tfrac{5}{6} & 0  \\\\\n",
       " 0 & \\tfrac{1}{6}  \\\\\n",
       " \\end{bmatrix}\n",
       "$$"
      ],
      "text/plain": [
       "<IPython.core.display.Latex object>"
      ]
     },
     "metadata": {},
     "output_type": "display_data"
    }
   ],
   "source": [
    "# step 2\n",
    "rho_C = qi.partial_trace(rho,[0, 1])\n",
    "rho_B = qi.partial_trace(rho,[0, 2])\n",
    "rho_A = qi.partial_trace(rho,[1, 2])\n",
    "\n",
    "display(rho_C.draw('latex', prefix='\\\\rho_C = '))\n",
    "display(rho_B.draw('latex', prefix='\\\\rho_B = '))\n",
    "display(rho_A.draw('latex', prefix='\\\\rho_A = '))"
   ]
  },
  {
   "cell_type": "code",
   "execution_count": 14,
   "id": "fa5fce3c",
   "metadata": {},
   "outputs": [
    {
     "name": "stdout",
     "output_type": "stream",
     "text": [
      "Trace of the subsystem:  0.777777777780999\n"
     ]
    }
   ],
   "source": [
    "# step 3\n",
    "subsystem = Matrix(rho_C)@Matrix(rho_C)\n",
    "Tr = subsystem.trace()\n",
    "print(\"Trace of the subsystem: \", Tr)"
   ]
  },
  {
   "cell_type": "markdown",
   "id": "2782f013",
   "metadata": {},
   "source": [
    "or we can use a built-in function `purity()`"
   ]
  },
  {
   "cell_type": "code",
   "execution_count": 18,
   "id": "381e978d",
   "metadata": {
    "scrolled": true
   },
   "outputs": [
    {
     "name": "stdout",
     "output_type": "stream",
     "text": [
      "State purity of rho_C:  0.777777777780999\n",
      "State purity of rho_B:  0.722222222205773\n",
      "State purity of rho_A:  0.722222222205773\n"
     ]
    }
   ],
   "source": [
    "print(\"State purity of rho_C: \", np.round(np.real(rho_C.purity()),15))\n",
    "print(\"State purity of rho_B: \", np.round(np.real(rho_A.purity()),15))\n",
    "print(\"State purity of rho_A: \", np.round(np.real(rho_B.purity()),15))"
   ]
  },
  {
   "cell_type": "markdown",
   "id": "0523ee20",
   "metadata": {},
   "source": [
    "We see that the density matrix is not pure and thus from the above stated, we can conclude that **the given state is entangled**."
   ]
  },
  {
   "cell_type": "markdown",
   "id": "a330fe20",
   "metadata": {},
   "source": [
    "## Outcomes after measurement and their probabilities"
   ]
  },
  {
   "cell_type": "code",
   "execution_count": 8,
   "id": "4273e2aa",
   "metadata": {},
   "outputs": [
    {
     "name": "stdout",
     "output_type": "stream",
     "text": [
      "results:  {'100': 367, '000': 657}\n"
     ]
    },
    {
     "data": {
      "image/png": "[encoded data removed]",
      "text/plain": [
       "<Figure size 504x360 with 1 Axes>"
      ]
     },
     "execution_count": 8,
     "metadata": {},
     "output_type": "execute_result"
    }
   ],
   "source": [
    "print(\"results: \", counts)\n",
    "plot_histogram(job.result().get_counts(), title=\"Task 1 - probabilities\")"
   ]
  },
  {
   "cell_type": "markdown",
   "id": "bbce0ef0",
   "metadata": {},
   "source": [
    "### Checking entanglement"
   ]
  },
  {
   "cell_type": "markdown",
   "id": "fb2a10d5",
   "metadata": {},
   "source": [
    "Both $\\ket{000}$ ($= \\ket{0} \\otimes \\ket{0} \\otimes \\ket{0}$) and $\\ket{100}$ ($= \\ket{1} \\otimes \\ket{0} \\otimes \\ket{0}$) are not entangled."
   ]
  },
  {
   "cell_type": "markdown",
   "id": "8f586f00",
   "metadata": {},
   "source": [
    "## Checking results by computation"
   ]
  },
  {
   "cell_type": "code",
   "execution_count": 9,
   "id": "85c051fd",
   "metadata": {},
   "outputs": [
    {
     "data": {
      "text/latex": [
       "$\\displaystyle \\left[\\begin{matrix}0.816496580927726\\\\0\\\\0\\\\0\\\\\\frac{\\sqrt{6}}{6}\\\\0\\\\0\\\\\\frac{\\sqrt{6}}{6}\\end{matrix}\\right]$"
      ],
      "text/plain": [
       "[0.816496580927726]\n",
       "[                 ]\n",
       "[        0        ]\n",
       "[                 ]\n",
       "[        0        ]\n",
       "[                 ]\n",
       "[        0        ]\n",
       "[                 ]\n",
       "[        ___      ]\n",
       "[      \\/ 6       ]\n",
       "[      -----      ]\n",
       "[        6        ]\n",
       "[                 ]\n",
       "[        0        ]\n",
       "[                 ]\n",
       "[        0        ]\n",
       "[                 ]\n",
       "[        ___      ]\n",
       "[      \\/ 6       ]\n",
       "[      -----      ]\n",
       "[        6        ]"
      ]
     },
     "execution_count": 9,
     "metadata": {},
     "output_type": "execute_result"
    }
   ],
   "source": [
    "%run Matrices.ipynb\n",
    "\n",
    "U = Matrix(((sqrt(2/3),-1/sqrt(3)),(1/sqrt(3),sqrt(2/3))))\n",
    "CH = Matrix([[1, 0, 0, 0], [0, 1, 0, 0], [0, 0, 1/sqrt(2), 1/sqrt(2)], [0, 0, 1/sqrt(2), -1/sqrt(2)]])\n",
    "CCX = Matrix([[1, 0, 0, 0, 0, 0, 0, 0], [0, 1, 0, 0, 0, 0, 0, 0], [0, 0, 1, 0, 0, 0, 0, 0], [0, 0, 0, 1, 0, 0, 0, 0], [0, 0, 0, 0, 1, 0, 0, 0], [0, 0, 0, 0, 0, 1, 0, 0], [0, 0, 0, 0, 0, 0, 0, 1], [0, 0, 0, 0, 0, 0, 1, 0]])\n",
    "#print(U)\n",
    "statevector = CCX@TensorProduct(CH, I)@TensorProduct(U,I,I)@TensorProduct(zero,zero,zero)\n",
    "statevector"
   ]
  },
  {
   "cell_type": "code",
   "execution_count": 10,
   "id": "be7fef7d",
   "metadata": {},
   "outputs": [
    {
     "data": {
      "text/latex": [
       "$$\\frac{\\sqrt{6}}{3} |000\\rangle+\\frac{\\sqrt{6}}{6} |100\\rangle+\\frac{\\sqrt{6}}{6} |111\\rangle$$"
      ],
      "text/plain": [
       "<IPython.core.display.Latex object>"
      ]
     },
     "execution_count": 10,
     "metadata": {},
     "output_type": "execute_result"
    }
   ],
   "source": [
    "Statevector(np.array(statevector)).draw(output='latex')"
   ]
  },
  {
   "cell_type": "markdown",
   "id": "49671544",
   "metadata": {},
   "source": [
    "## Outcomes from IBM Quantum"
   ]
  },
  {
   "cell_type": "markdown",
   "id": "9bc2a535",
   "metadata": {},
   "source": [
    "<img src=\"Task_1.png\"/>"
   ]
  }
 ],
 "metadata": {
  "kernelspec": {
   "display_name": "Python 3 (ipykernel)",
   "language": "python",
   "name": "python3"
  },
  "language_info": {
   "codemirror_mode": {
    "name": "ipython",
    "version": 3
   },
   "file_extension": ".py",
   "mimetype": "text/x-python",
   "name": "python",
   "nbconvert_exporter": "python",
   "pygments_lexer": "ipython3",
   "version": "3.9.12"
  }
 },
 "nbformat": 4,
 "nbformat_minor": 5
}
