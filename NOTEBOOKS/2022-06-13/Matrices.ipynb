{
 "cells": [
  {
   "cell_type": "code",
   "execution_count": 1,
   "id": "d173261a",
   "metadata": {},
   "outputs": [],
   "source": [
    "import numpy as np\n",
    "from sympy import *\n",
    "from sympy.physics.quantum import *\n",
    "init_printing(use_unicode=False, wrap_line=False)\n",
    "\n",
    "# basis states\n",
    "zero = Matrix(((1),(0)))\n",
    "one = Matrix(((0),(1)))\n",
    "plus = Matrix(((1/sqrt(2)),(1/sqrt(2))))\n",
    "minus = Matrix(((1/sqrt(2)),(-1/sqrt(2))))\n",
    "\n",
    "# Bell states\n",
    "phi0 = Matrix(((1/sqrt(2)),(0),(0),(1/sqrt(2)))) #phi +\n",
    "phi1 = Matrix(((1/sqrt(2)),(0),(0),(-1/sqrt(2)))) #phi -\n",
    "psi0 = Matrix(((0),(1/sqrt(2)),(1/sqrt(2)),(0))) #psi +\n",
    "psi1 = Matrix(((0),(1/sqrt(2)),(-1/sqrt(2)),(0))) #psi -\n",
    "\n",
    "# 1-qubit gates\n",
    "I = Matrix(((1,0),(0,1))) #Identity matrix\n",
    "X = Matrix(((0,1),(1,0))) #Pauli X, NOT gate\n",
    "Y = Matrix(((0,-I),(I,0))) #Pauli Y\n",
    "Z = Matrix(((1,0),(0,-1))) #Pauli Z\n",
    "S = Matrix(((1,0),(0,I))) #Phase gate\n",
    "T = Matrix(((1,0),(0,exp(I*pi/4)))) #T gate\n",
    "H = Matrix(((1/sqrt(2),1/sqrt(2)),(1/sqrt(2),-1/sqrt(2)))) #Hadamard gate\n",
    "\n",
    "# 2-qubit gates\n",
    "CNOT = Matrix(((1,0,0,0),(0,1,0,0),(0,0,0,1),(0,0,1,0)))\n",
    "CNOTF = Matrix(((1,0,0,0),(0,0,0,1),(0,0,1,0),(0,1,0,0))) #CNOT flipped\n",
    "ACNOT = Matrix(((0,1,0,0),(1,0,0,0),(0,0,1,0),(0,0,0,1))) #ANTI-CNOT\n",
    "SWAP = Matrix(((1,0,0,0),(0,0,1,0),(0,1,0,0),(0,0,0,1)))"
   ]
  }
 ],
 "metadata": {
  "kernelspec": {
   "display_name": "Python 3 (ipykernel)",
   "language": "python",
   "name": "python3"
  },
  "language_info": {
   "codemirror_mode": {
    "name": "ipython",
    "version": 3
   },
   "file_extension": ".py",
   "mimetype": "text/x-python",
   "name": "python",
   "nbconvert_exporter": "python",
   "pygments_lexer": "ipython3",
   "version": "3.9.12"
  }
 },
 "nbformat": 4,
 "nbformat_minor": 5
}
