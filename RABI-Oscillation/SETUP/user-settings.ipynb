{
 "cells": [
  {
   "cell_type": "code",
   "execution_count": null,
   "id": "dbc265b2-b0c6-4c54-8226-8995e3fc8f9d",
   "metadata": {},
   "outputs": [],
   "source": [
    "API_token = # insert your API token string here (see https://quantum-computing.ibm.com/lab/docs/iql/manage/account/ibmq)"
   ]
  },
  {
   "cell_type": "code",
   "execution_count": null,
   "id": "06c35dbf-56cf-4080-b225-bbf885f7f3df",
   "metadata": {},
   "outputs": [],
   "source": [
    "%run ../SETUP/backend.ipynb"
   ]
  },
  {
   "cell_type": "code",
   "execution_count": null,
   "id": "b295dd44-08db-467b-9bae-15ffc7416be9",
   "metadata": {},
   "outputs": [],
   "source": [
    "# number of periods of an oscillation\n",
    "periods = 1\n",
    "\n",
    "# number of time steps (datapoints) to be plotted\n",
    "steps = 50\n",
    "\n",
    "# initial vector state\n",
    "initial_state = Zero # or One\n",
    "\n",
    "# number of decimals to round the values to\n",
    "round_dec = 3"
   ]
  },
  {
   "cell_type": "code",
   "execution_count": null,
   "id": "354e83f5-b25b-4b9b-b7e9-3b887f377d24",
   "metadata": {},
   "outputs": [],
   "source": [
    "# number of runs of an experiment on a simulator\n",
    "simulator_runs = 20\n",
    "\n",
    "# number of runs of an experiment on IBMQ\n",
    "IBMQ_runs = 10"
   ]
  },
  {
   "cell_type": "code",
   "execution_count": null,
   "id": "a721fb82-cb82-4847-a867-6c5b5dbeea31",
   "metadata": {},
   "outputs": [],
   "source": [
    "# choose backends for a simulation\n",
    "backend_simulator = sim_noisy_manila\n",
    "\n",
    "# choose backends for running on a real IBMQ hardware\n",
    "backend_IBMQ = manila"
   ]
  },
  {
   "cell_type": "code",
   "execution_count": null,
   "id": "dbd568dd-c09d-4cf7-8554-1559ffb934eb",
   "metadata": {},
   "outputs": [],
   "source": [
    "# fix number of times to repeat the experiment on a simulator\n",
    "num_shots = 8192\n",
    "\n",
    "# fix number of times to repeat the experiment on IBM real hardware\n",
    "num_shots_IBMQ = 8192   # 1024"
   ]
  },
  {
   "cell_type": "code",
   "execution_count": null,
   "id": "c76149f9-ac52-4a7e-aca7-75b4f174dbbf",
   "metadata": {},
   "outputs": [],
   "source": [
    "# width of the plots\n",
    "plot_width = 20\n",
    "\n",
    "# height of the plots\n",
    "plot_height = 8\n",
    "\n",
    "plt.rcParams[\"figure.figsize\"] = (plot_width, plot_height)"
   ]
  },
  {
   "cell_type": "code",
   "execution_count": null,
   "id": "8ae042e1-2f42-4cbe-9d38-dcf121f5e9ff",
   "metadata": {},
   "outputs": [],
   "source": [
    "# print(\"... running of {user-settings.ipynb}  successfully finished \\U0001F389\")"
   ]
  }
 ],
 "metadata": {
  "kernelspec": {
   "display_name": "Python 3 (ipykernel)",
   "language": "python",
   "name": "python3"
  },
  "language_info": {
   "codemirror_mode": {
    "name": "ipython",
    "version": 3
   },
   "file_extension": ".py",
   "mimetype": "text/x-python",
   "name": "python",
   "nbconvert_exporter": "python",
   "pygments_lexer": "ipython3",
   "version": "3.8.13"
  },
  "widgets": {
   "application/vnd.jupyter.widget-state+json": {
    "state": {},
    "version_major": 2,
    "version_minor": 0
   }
  }
 },
 "nbformat": 4,
 "nbformat_minor": 5
}
