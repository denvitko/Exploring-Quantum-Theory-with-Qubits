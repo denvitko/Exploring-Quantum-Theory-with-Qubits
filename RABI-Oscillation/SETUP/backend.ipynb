{
 "cells": [
  {
   "cell_type": "code",
   "execution_count": null,
   "id": "cd8265ab-4427-47e2-9a6f-6697c074cd5c",
   "metadata": {},
   "outputs": [],
   "source": [
    "# load IBMQ Account data\n",
    "IBMQ.save_account(API_token, overwrite=True)"
   ]
  },
  {
   "cell_type": "code",
   "execution_count": null,
   "id": "6543d579-c1c2-4e17-b834-5433a4c24853",
   "metadata": {},
   "outputs": [],
   "source": [
    "provider = IBMQ.load_account()\n",
    "provider = IBMQ.get_provider(hub='ibm-q')"
   ]
  },
  {
   "cell_type": "code",
   "execution_count": null,
   "id": "8f33ce50-b8fd-4b18-baae-8e2cab951e77",
   "metadata": {},
   "outputs": [],
   "source": [
    "# real hardware backend for experiment (5 qubits)\n",
    "lima = provider.get_backend('ibmq_lima')\n",
    "belem = provider.get_backend('ibmq_belem')\n",
    "quito = provider.get_backend('ibmq_quito')\n",
    "manila = provider.get_backend('ibmq_manila')\n",
    "# real hardware backend for experiment (7 qubits)\n",
    "oslo = provider.get_backend('ibm_oslo')\n",
    "nairobi = provider.get_backend('ibm_nairobi')\n",
    "\n",
    "# simulated backend based on real 5-qubit device noise profile\n",
    "sim_noisy_manila = QasmSimulator.from_backend(manila)\n",
    "sim_noisy_belem = QasmSimulator.from_backend(belem)\n",
    "sim_noisy_quito = QasmSimulator.from_backend(quito)\n",
    "sim_noisy_manila = QasmSimulator.from_backend(manila)\n",
    "# simulated backend based on real 7-qubit device noise profile\n",
    "sim_noisy_oslo = QasmSimulator.from_backend(oslo)\n",
    "sim_noisy_nairobi = QasmSimulator.from_backend(nairobi)\n",
    "\n",
    "# noiseless simulated backend\n",
    "sim_noiseless = QasmSimulator()\n",
    "\n",
    "# a simulator backend which returns measured shots in the Z basis\n",
    "shots_backend = Aer.get_backend('qasm_simulator')"
   ]
  }
 ],
 "metadata": {
  "kernelspec": {
   "display_name": "Python 3 (ipykernel)",
   "language": "python",
   "name": "python3"
  },
  "language_info": {
   "codemirror_mode": {
    "name": "ipython",
    "version": 3
   },
   "file_extension": ".py",
   "mimetype": "text/x-python",
   "name": "python",
   "nbconvert_exporter": "python",
   "pygments_lexer": "ipython3",
   "version": "3.8.13"
  },
  "widgets": {
   "application/vnd.jupyter.widget-state+json": {
    "state": {},
    "version_major": 2,
    "version_minor": 0
   }
  }
 },
 "nbformat": 4,
 "nbformat_minor": 5
}
