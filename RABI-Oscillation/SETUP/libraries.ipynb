{
 "cells": [
  {
   "cell_type": "code",
   "execution_count": null,
   "id": "d4a2e059-c570-4b5a-8716-7054ee247ddc",
   "metadata": {},
   "outputs": [],
   "source": [
    "# include libraries for suppressing warnings\n",
    "import warnings\n",
    "warnings.filterwarnings('ignore')\n",
    "import logging.config\n",
    "logging.config.dictConfig({\n",
    "    'version': 1,\n",
    "    'disable_existing_loggers': True,\n",
    "})"
   ]
  },
  {
   "cell_type": "code",
   "execution_count": null,
   "id": "1278d2fa-d19e-40af-bc52-f2ede8decdea",
   "metadata": {},
   "outputs": [],
   "source": [
    "# include qiskit library for operations with vectors and matrixes\n",
    "from qiskit.opflow import I, X, Y, Z, Zero, One, PauliSumOp, EvolvedOp, DictStateFn, MatrixEvolution\n",
    "from qiskit.circuit import Parameter\n",
    "\n",
    "# include qiskit library for creating quantum circuits\n",
    "from qiskit import QuantumCircuit, QuantumRegister, ClassicalRegister, IBMQ, Aer, execute, transpile\n",
    "from qiskit.providers import Backend\n",
    "from qiskit.providers.aer import QasmSimulator\n",
    "from qiskit.tools.monitor import job_monitor\n",
    "from qiskit.extensions import HamiltonianGate\n",
    "\n",
    "# include qiskit library for error mitigation\n",
    "!pip install qiskit.ignis\n",
    "from qiskit.ignis.mitigation.measurement import (complete_meas_cal, tensored_meas_cal,\n",
    "                                                 CompleteMeasFitter, TensoredMeasFitter)\n",
    "\n",
    "# include library for visualisation\n",
    "from qiskit.tools.visualization import *\n",
    "\n",
    "# include libraries for mathematical computations\n",
    "import numpy as np\n",
    "from scipy.constants import h, hbar\n",
    "\n",
    "# include library for reading data from a file\n",
    "import pandas as pd\n",
    "\n",
    "# include library for computing the mean absolute error\n",
    "from sklearn.metrics import mean_absolute_error as mae\n",
    "\n",
    "# include library for plotting the results\n",
    "import matplotlib.pyplot as plt\n",
    "\n",
    "# include library for docstrings\n",
    "from typing import Union"
   ]
  },
  {
   "cell_type": "code",
   "execution_count": null,
   "id": "2ee0590f-98c9-4602-bc95-d5d4127a9547",
   "metadata": {},
   "outputs": [],
   "source": [
    "# print(\"... running of {libraries.ipynb}  successfully finished \\U0001F389\")"
   ]
  }
 ],
 "metadata": {
  "kernelspec": {
   "display_name": "Python 3 (ipykernel)",
   "language": "python",
   "name": "python3"
  },
  "language_info": {
   "codemirror_mode": {
    "name": "ipython",
    "version": 3
   },
   "file_extension": ".py",
   "mimetype": "text/x-python",
   "name": "python",
   "nbconvert_exporter": "python",
   "pygments_lexer": "ipython3",
   "version": "3.8.13"
  },
  "widgets": {
   "application/vnd.jupyter.widget-state+json": {
    "state": {},
    "version_major": 2,
    "version_minor": 0
   }
  }
 },
 "nbformat": 4,
 "nbformat_minor": 5
}
