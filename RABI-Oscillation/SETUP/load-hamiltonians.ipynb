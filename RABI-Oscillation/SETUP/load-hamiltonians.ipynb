{
 "cells": [
  {
   "cell_type": "code",
   "execution_count": null,
   "id": "40acda75-ab69-473e-9912-0bb8a6315dfb",
   "metadata": {},
   "outputs": [],
   "source": [
    "# load Hamiltonians from a file\n",
    "\n",
    "df = load_file(\"../INPUT/hamiltonians.csv\")\n",
    "\n",
    "HAMILTONIANS = []\n",
    "\n",
    "for index, row in df.iterrows():\n",
    "    H = get_H(row['a'],row['b'],row['c'],row['d'])\n",
    "    HAMILTONIANS.append(Hamiltonian(H, str(index+1)))"
   ]
  },
  {
   "cell_type": "code",
   "execution_count": null,
   "id": "70e4bfa5-69c1-40de-938c-34147cf8ff9d",
   "metadata": {},
   "outputs": [],
   "source": [
    "# print(\"... running of {load-hamiltonians.ipynb}  successfully finished \\U0001F389\")"
   ]
  }
 ],
 "metadata": {
  "kernelspec": {
   "display_name": "Python 3 (ipykernel)",
   "language": "python",
   "name": "python3"
  },
  "language_info": {
   "codemirror_mode": {
    "name": "ipython",
    "version": 3
   },
   "file_extension": ".py",
   "mimetype": "text/x-python",
   "name": "python",
   "nbconvert_exporter": "python",
   "pygments_lexer": "ipython3",
   "version": "3.8.13"
  },
  "widgets": {
   "application/vnd.jupyter.widget-state+json": {
    "state": {},
    "version_major": 2,
    "version_minor": 0
   }
  }
 },
 "nbformat": 4,
 "nbformat_minor": 5
}
