{
 "cells": [
  {
   "cell_type": "code",
   "execution_count": null,
   "id": "b5a19f8c-60c9-4ff8-ad3e-2c168c129a32",
   "metadata": {},
   "outputs": [],
   "source": [
    "%run ../SETUP/libraries.ipynb\n",
    "%run ../SETUP/functions.ipynb\n",
    "\n",
    "%run ../CLASSES/Hamiltonian.ipynb\n",
    "%run ../CLASSES/Experiment.ipynb\n",
    "\n",
    "%run ../SETUP/user-settings.ipynb\n",
    "\n",
    "%run ../SETUP/load-hamiltonians.ipynb"
   ]
  },
  {
   "cell_type": "code",
   "execution_count": 4,
   "id": "5aea0649-67fc-43cf-9a75-3800635a4560",
   "metadata": {},
   "outputs": [
    {
     "name": "stdout",
     "output_type": "stream",
     "text": [
      "~ HAMILTONIAN 1 ~ <class '__main__.Hamiltonian'>\n",
      "[[71. +0.j  0.+50.j]\n",
      " [ 0.-50.j 71. +0.j]]\n",
      "Eigenvalues difference: (100+0j)\n",
      "Time of evolution: 6.62607015e-36\n",
      "\n",
      "~ HAMILTONIAN 2 ~ <class '__main__.Hamiltonian'>\n",
      "[[3.2 +0.j 0.3 +0.j]\n",
      " [0.3 +0.j 4.16+0.j]]\n",
      "Eigenvalues difference: (1.1320777358467924+0j)\n",
      "Time of evolution: 5.853016926477853e-34\n",
      "\n",
      "~ HAMILTONIAN 3 ~ <class '__main__.Hamiltonian'>\n",
      "[[5.+0.j 3.+2.j]\n",
      " [3.-2.j 5.+0.j]]\n",
      "Eigenvalues difference: (7.211102550927978+0j)\n",
      "Time of evolution: 9.188706031017834e-35\n",
      "\n"
     ]
    }
   ],
   "source": [
    "print_hamiltonians_info()"
   ]
  },
  {
   "cell_type": "code",
   "execution_count": null,
   "id": "d27812db-ed33-4359-be31-bf9eb14839dd",
   "metadata": {},
   "outputs": [],
   "source": [
    "# print(\"... running of {init.ipynb} successfully finished \\U0001F389\")"
   ]
  }
 ],
 "metadata": {
  "kernelspec": {
   "display_name": "Python 3 (ipykernel)",
   "language": "python",
   "name": "python3"
  },
  "language_info": {
   "codemirror_mode": {
    "name": "ipython",
    "version": 3
   },
   "file_extension": ".py",
   "mimetype": "text/x-python",
   "name": "python",
   "nbconvert_exporter": "python",
   "pygments_lexer": "ipython3",
   "version": "3.8.13"
  },
  "widgets": {
   "application/vnd.jupyter.widget-state+json": {
    "state": {},
    "version_major": 2,
    "version_minor": 0
   }
  }
 },
 "nbformat": 4,
 "nbformat_minor": 5
}
