{
 "cells": [
  {
   "cell_type": "code",
   "execution_count": 5,
   "id": "285e431c-6a69-4365-8918-6a007b1cc79f",
   "metadata": {},
   "outputs": [],
   "source": [
    "# Hamiltonian.ipynb\n",
    "\n",
    "class Hamiltonian:\n",
    "    \"\"\"\n",
    "    A class to represent a Hamiltonian (operator corresponding to the total energy).\n",
    "\n",
    "    ...\n",
    "\n",
    "    Attributes\n",
    "    ----------\n",
    "    matrix : PauliSumOp\n",
    "        a list of Pauli operators with their coefficients\n",
    "    eig_diff : complex\n",
    "        difference between eigenvalues of a given Hamiltonian\n",
    "    evol_time : float\n",
    "        total time of an evolution for a given Hamiltonian\n",
    "    label : str\n",
    "        label of the Hamiltonian\n",
    "\n",
    "    Methods\n",
    "    -------\n",
    "    __init__(self, matrix, label=\"\"):\n",
    "        x\n",
    "    \"\"\"\n",
    "    def __init__(self, matrix, label=\"\"):\n",
    "        \"\"\"\n",
    "        Constructs all the necessary attributes for the Hamiltonian object.\n",
    "\n",
    "        Parameters\n",
    "        ----------\n",
    "        matrix : PauliSumOp\n",
    "            a list of Pauli operators with their coefficients\n",
    "        label : str\n",
    "            label of the Hamiltonian\n",
    "        \"\"\"\n",
    "        self.matrix = matrix\n",
    "        self.eig_diff = get_ΔE(matrix)\n",
    "        self.evol_time = get_T(matrix)\n",
    "        self.label = \"HAMILTONIAN \" + label\n",
    "\n",
    "    def __str__(self) -> str:\n",
    "        \"\"\"\n",
    "        Returns the description of the Hamiltonian.\n",
    "\n",
    "        Returns\n",
    "        -------\n",
    "        str\n",
    "        \"\"\"\n",
    "        return \"~ \" + self.label + \" ~ \" + str(type(self)) + \"\\n\" +\\\n",
    "            str(self.matrix.to_matrix()) + \"\\n\" +\\\n",
    "            \"Eigenvalues difference: \" + str(self.eig_diff) + \"\\n\" +\\\n",
    "            \"Time of evolution: \" + str(self.evol_time)\n",
    "    \n",
    "    def get_matrix(self):\n",
    "        return self.matrix.to_matrix()"
   ]
  },
  {
   "cell_type": "code",
   "execution_count": 6,
   "id": "2d54cf49-2183-4ab9-9291-28fec171f58d",
   "metadata": {},
   "outputs": [
    {
     "name": "stdout",
     "output_type": "stream",
     "text": [
      "Help on class Hamiltonian in module __main__:\n",
      "\n",
      "class Hamiltonian(builtins.object)\n",
      " |  Hamiltonian(matrix, label='')\n",
      " |  \n",
      " |  A class to represent a Hamiltonian.\n",
      " |  \n",
      " |  ...\n",
      " |  \n",
      " |  Attributes\n",
      " |  ----------\n",
      " |  matrix : PauliSumOp\n",
      " |      a list of Pauli operators with their coefficients\n",
      " |  eig_diff : complex\n",
      " |      difference between eigenvalues of a given Hamiltonian\n",
      " |  evol_time : float\n",
      " |      total time of an evolution for a given Hamiltonian\n",
      " |  label : str\n",
      " |      label of the Hamiltonian\n",
      " |  \n",
      " |  Methods\n",
      " |  -------\n",
      " |  __init__(self, matrix, label=\"\"):\n",
      " |      x\n",
      " |  \n",
      " |  Methods defined here:\n",
      " |  \n",
      " |  __init__(self, matrix, label='')\n",
      " |      Constructs all the necessary attributes for the Hamiltonian object.\n",
      " |      \n",
      " |      Parameters\n",
      " |      ----------\n",
      " |      matrix : PauliSumOp\n",
      " |          a list of Pauli operators with their coefficients\n",
      " |      label : str\n",
      " |          label of the Hamiltonian\n",
      " |  \n",
      " |  __str__(self) -> str\n",
      " |      Returns the description of the Hamiltonian.\n",
      " |      \n",
      " |      Returns\n",
      " |      -------\n",
      " |      str\n",
      " |  \n",
      " |  ----------------------------------------------------------------------\n",
      " |  Data descriptors defined here:\n",
      " |  \n",
      " |  __dict__\n",
      " |      dictionary for instance variables (if defined)\n",
      " |  \n",
      " |  __weakref__\n",
      " |      list of weak references to the object (if defined)\n",
      "\n"
     ]
    }
   ],
   "source": [
    "#help(Hamiltonian)"
   ]
  },
  {
   "cell_type": "code",
   "execution_count": 11,
   "id": "f6a13cac-8f41-4dbc-9180-062bbd6e2368",
   "metadata": {},
   "outputs": [],
   "source": [
    "#import pandas as pd"
   ]
  },
  {
   "cell_type": "code",
   "execution_count": 10,
   "id": "e049259d-e0ce-4b40-bf81-fba34725ce21",
   "metadata": {},
   "outputs": [],
   "source": [
    "#help(pd.DataFrame)"
   ]
  },
  {
   "cell_type": "markdown",
   "id": "9483a6b2-7ae5-4f97-bc9d-4a6bdc3c4e48",
   "metadata": {},
   "source": [
    "---"
   ]
  },
  {
   "cell_type": "code",
   "execution_count": 141,
   "id": "df0f66e1-c9d4-4996-919b-fb1b782bb157",
   "metadata": {},
   "outputs": [
    {
     "name": "stdout",
     "output_type": "stream",
     "text": [
      "... running of {Hamiltonian.ipynb}  successfully finished 🎉\n"
     ]
    }
   ],
   "source": [
    "#print(\"... running of {Hamiltonian.ipynb}  successfully finished \\U0001F389\")"
   ]
  }
 ],
 "metadata": {
  "kernelspec": {
   "display_name": "Python 3 (ipykernel)",
   "language": "python",
   "name": "python3"
  },
  "language_info": {
   "codemirror_mode": {
    "name": "ipython",
    "version": 3
   },
   "file_extension": ".py",
   "mimetype": "text/x-python",
   "name": "python",
   "nbconvert_exporter": "python",
   "pygments_lexer": "ipython3",
   "version": "3.8.13"
  },
  "widgets": {
   "application/vnd.jupyter.widget-state+json": {
    "state": {},
    "version_major": 2,
    "version_minor": 0
   }
  }
 },
 "nbformat": 4,
 "nbformat_minor": 5
}
