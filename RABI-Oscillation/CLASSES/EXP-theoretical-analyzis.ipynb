{
 "cells": [
  {
   "cell_type": "code",
   "execution_count": 13,
   "id": "285e431c-6a69-4365-8918-6a007b1cc79f",
   "metadata": {},
   "outputs": [],
   "source": [
    "# EXP-theoretical-analyzis.ipynb\n",
    "\n",
    "class TheoreticalAnalyzis(Experiment):\n",
    "    pass\n",
    "\n",
    "    def __init__(self, hamiltonian, experiment_name=\"\"):\n",
    "        \n",
    "        super().__init__(hamiltonian, ExperimentType.THEORETICAL_ANALYZIS, experiment_name)\n",
    "        \n",
    "    def run(self):\n",
    "        self.probs[0] = [[get_P(self.hamiltonian.matrix, float(t), initial_state) for t in self.timeline]]\n",
    "        self.probs[1] = [[1 - get_P(self.hamiltonian.matrix, float(t), initial_state) for t in self.timeline]]\n",
    "        \n",
    "        runs = len(self.probs[0])\n",
    "        labels = [\"run-\"+ str(i) for i in range(1,runs+1)]\n",
    "        \n",
    "        self.probs = [\n",
    "            pd.DataFrame(self.probs[0], index=labels, columns=[\"point-\"+ str(i) for i in range(1,steps+1)]),\n",
    "            pd.DataFrame(self.probs[1], index=labels, columns=[\"point-\"+ str(i) for i in range(1,steps+1)])\n",
    "        ]\n",
    "        \n",
    "        self.data = pd.concat(self.probs, keys=[\"ZERO\", \"ONE\"]) \n",
    "        \n",
    "        print(\"---\\n> experiment \" + self.experiment_name + \" successfully finished \\U0001F389\\n---\\n\")\n",
    "        \n",
    "    def export_data(self, name):\n",
    "        self.probs[0].to_csv('../OUTPUT/DATA/THEORY/' + name + '-0.csv', encoding='utf-8')\n",
    "        self.probs[1].to_csv('../OUTPUT/DATA/THEORY/' + name + '-1.csv', encoding='utf-8')\n",
    "        \n",
    "        self.data.to_csv('../OUTPUT/DATA/THEORY/' + name + '.csv', encoding='utf-8')\n",
    "        #print(\"data exported...\")\n",
    "    \n",
    "    def plot(self, theme='_classic_test_patch', save=[False]):\n",
    "        \n",
    "        #plt.rcParams[\"figure.figsize\"] = (plot_width, plot_height)\n",
    "        with plt.style.context(theme):   #dark_background, _classic_test_patch\n",
    "            plt.xlabel(\"time [fs]\")\n",
    "            plt.ylabel(\"probability of measuring states |0⟩ and |1⟩\")\n",
    "\n",
    "            plt.plot(\n",
    "                self.timeplot * 10**15,\n",
    "                self.probs[0].loc[\"run-1\"],\n",
    "                linestyle='solid', linewidth=1.5,\n",
    "                label=\"probability of measuring |0⟩\",\n",
    "            )\n",
    "\n",
    "            plt.plot(\n",
    "                self.timeplot * 10**15,\n",
    "                self.probs[1].loc[\"run-1\"],\n",
    "                linestyle='solid', linewidth=1.5,\n",
    "                label=\"probability of measuring |1⟩\",\n",
    "            )\n",
    "\n",
    "        plt.title(\"Evolution of states |0⟩ and |1⟩ under H\")\n",
    "        plt.legend(loc=\"best\")\n",
    "        plt.grid()\n",
    "\n",
    "        if(save[0]):\n",
    "            plt.savefig('../OUTPUT/PLOTS/THEORY/' + save[1] + '.png')\n",
    "            \n",
    "        plt.show()"
   ]
  },
  {
   "cell_type": "markdown",
   "id": "9483a6b2-7ae5-4f97-bc9d-4a6bdc3c4e48",
   "metadata": {},
   "source": [
    "---"
   ]
  },
  {
   "cell_type": "code",
   "execution_count": 1,
   "id": "df0f66e1-c9d4-4996-919b-fb1b782bb157",
   "metadata": {},
   "outputs": [],
   "source": [
    "# print(\"... running of {EXP-theoretical-analyzis.ipynb} successfully finished \\U0001F389\")"
   ]
  }
 ],
 "metadata": {
  "kernelspec": {
   "display_name": "Python 3 (ipykernel)",
   "language": "python",
   "name": "python3"
  },
  "language_info": {
   "codemirror_mode": {
    "name": "ipython",
    "version": 3
   },
   "file_extension": ".py",
   "mimetype": "text/x-python",
   "name": "python",
   "nbconvert_exporter": "python",
   "pygments_lexer": "ipython3",
   "version": "3.8.13"
  },
  "widgets": {
   "application/vnd.jupyter.widget-state+json": {
    "state": {},
    "version_major": 2,
    "version_minor": 0
   }
  }
 },
 "nbformat": 4,
 "nbformat_minor": 5
}
