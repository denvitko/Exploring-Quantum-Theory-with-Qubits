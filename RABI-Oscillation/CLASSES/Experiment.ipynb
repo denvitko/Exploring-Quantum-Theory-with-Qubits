{
 "cells": [
  {
   "cell_type": "code",
   "execution_count": null,
   "id": "0d5cae8f-e12d-45be-a29a-330f283b6e0e",
   "metadata": {},
   "outputs": [],
   "source": [
    "from enum import Enum\n",
    "class ExperimentType(Enum):\n",
    "    THEORETICAL_ANALYZIS = 0\n",
    "    SIMULATOR = 1\n",
    "    NOISY_SIMULATOR = 2\n",
    "    REAL_HARDWARE = 3"
   ]
  },
  {
   "cell_type": "code",
   "execution_count": 13,
   "id": "285e431c-6a69-4365-8918-6a007b1cc79f",
   "metadata": {},
   "outputs": [],
   "source": [
    "# Experiment.ipynb\n",
    "\n",
    "class Experiment:\n",
    "    \"\"\"\n",
    "    A class to represent an Experiment.\n",
    "\n",
    "    ...\n",
    "\n",
    "    Attributes\n",
    "    ----------\n",
    "    \n",
    "    \"\"\"\n",
    "    def __init__(self, hamiltonian, experiment_type, experiment_name):\n",
    "        \n",
    "        self.hamiltonian = hamiltonian\n",
    "        \n",
    "        #self.H = hamiltonian.matrix\n",
    "        \n",
    "        self.experiment_type = experiment_type\n",
    "        self.probs_0 = []\n",
    "        self.probs_1 = []\n",
    "        self.data = []\n",
    "        self.timeline = np.linspace(0, self.hamiltonian.evol_time * periods, steps)\n",
    "        self.timeplot = self.timeline * 10**19\n",
    "        self.experiment_name = experiment_name\n",
    "        self.probs = [[],[]]\n",
    "        \n",
    "        #self.meas_filter = meas_filter\n",
    "\n",
    "    def __str__(self):\n",
    "        hamiltonian = str(self.hamiltonian.get_matrix()[0]) + str(self.hamiltonian.get_matrix()[1])\n",
    "        return \"~ Experiment \" + self.experiment_name + \" for \" + str(self.hamiltonian.label) + \" ~ \" + str(self.experiment_type.name) + \"\\n\" +\\\n",
    "            \"--------------------------------------------------------\" + \"\\n\" +\\\n",
    "            \"Hamiltonian: \" + hamiltonian + \"\\n\" +\\\n",
    "            \"Eigenvalues difference: \" + str(self.hamiltonian.eig_diff) + \"\\n\" +\\\n",
    "            \"Time of evolution: \" + str(self.hamiltonian.evol_time) + \"\\n\"\n",
    "    \n",
    "    \n"
   ]
  },
  {
   "cell_type": "markdown",
   "id": "9483a6b2-7ae5-4f97-bc9d-4a6bdc3c4e48",
   "metadata": {},
   "source": [
    "---"
   ]
  },
  {
   "cell_type": "code",
   "execution_count": 141,
   "id": "df0f66e1-c9d4-4996-919b-fb1b782bb157",
   "metadata": {},
   "outputs": [
    {
     "name": "stdout",
     "output_type": "stream",
     "text": [
      "... running of {Hamiltonian.ipynb}  successfully finished 🎉\n"
     ]
    }
   ],
   "source": [
    "#print(\"... running of {Experiment.ipynb} successfully finished \\U0001F389\")"
   ]
  }
 ],
 "metadata": {
  "kernelspec": {
   "display_name": "Python 3 (ipykernel)",
   "language": "python",
   "name": "python3"
  },
  "language_info": {
   "codemirror_mode": {
    "name": "ipython",
    "version": 3
   },
   "file_extension": ".py",
   "mimetype": "text/x-python",
   "name": "python",
   "nbconvert_exporter": "python",
   "pygments_lexer": "ipython3",
   "version": "3.8.13"
  },
  "widgets": {
   "application/vnd.jupyter.widget-state+json": {
    "state": {},
    "version_major": 2,
    "version_minor": 0
   }
  }
 },
 "nbformat": 4,
 "nbformat_minor": 5
}
